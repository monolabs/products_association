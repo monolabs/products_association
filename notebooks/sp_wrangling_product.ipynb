{
 "cells": [
  {
   "cell_type": "code",
   "execution_count": 1,
   "id": "e7ffb580",
   "metadata": {},
   "outputs": [],
   "source": [
    "import pandas as pd\n",
    "pd.set_option('display.max_columns', None)\n",
    "import numpy as np\n",
    "import gc\n",
    "from scipy.sparse import vstack, csr_matrix, save_npz, load_npz"
   ]
  },
  {
   "cell_type": "code",
   "execution_count": 2,
   "id": "0fbaf3c6",
   "metadata": {},
   "outputs": [],
   "source": [
    "test = False"
   ]
  },
  {
   "cell_type": "code",
   "execution_count": 3,
   "id": "ef084ad4",
   "metadata": {},
   "outputs": [],
   "source": [
    "order_products = pd.concat([pd.read_csv('../data/order_products__prior.csv'),\n",
    "                            pd.read_csv('../data/order_products__train.csv')])\n",
    "products = pd.read_csv('../data/products.csv')\n",
    "departments = pd.read_csv('../data/departments.csv')"
   ]
  },
  {
   "cell_type": "code",
   "execution_count": 4,
   "id": "3d673865",
   "metadata": {},
   "outputs": [
    {
     "data": {
      "text/html": [
       "<div>\n",
       "<style scoped>\n",
       "    .dataframe tbody tr th:only-of-type {\n",
       "        vertical-align: middle;\n",
       "    }\n",
       "\n",
       "    .dataframe tbody tr th {\n",
       "        vertical-align: top;\n",
       "    }\n",
       "\n",
       "    .dataframe thead th {\n",
       "        text-align: right;\n",
       "    }\n",
       "</style>\n",
       "<table border=\"1\" class=\"dataframe\">\n",
       "  <thead>\n",
       "    <tr style=\"text-align: right;\">\n",
       "      <th></th>\n",
       "      <th>order_id</th>\n",
       "      <th>product_id</th>\n",
       "      <th>add_to_cart_order</th>\n",
       "      <th>reordered</th>\n",
       "      <th>product_name</th>\n",
       "      <th>aisle_id</th>\n",
       "      <th>department_id</th>\n",
       "    </tr>\n",
       "  </thead>\n",
       "  <tbody>\n",
       "    <tr>\n",
       "      <th>0</th>\n",
       "      <td>2</td>\n",
       "      <td>33120</td>\n",
       "      <td>1</td>\n",
       "      <td>1</td>\n",
       "      <td>Organic Egg Whites</td>\n",
       "      <td>86</td>\n",
       "      <td>16</td>\n",
       "    </tr>\n",
       "    <tr>\n",
       "      <th>1</th>\n",
       "      <td>26</td>\n",
       "      <td>33120</td>\n",
       "      <td>5</td>\n",
       "      <td>0</td>\n",
       "      <td>Organic Egg Whites</td>\n",
       "      <td>86</td>\n",
       "      <td>16</td>\n",
       "    </tr>\n",
       "    <tr>\n",
       "      <th>2</th>\n",
       "      <td>120</td>\n",
       "      <td>33120</td>\n",
       "      <td>13</td>\n",
       "      <td>0</td>\n",
       "      <td>Organic Egg Whites</td>\n",
       "      <td>86</td>\n",
       "      <td>16</td>\n",
       "    </tr>\n",
       "    <tr>\n",
       "      <th>3</th>\n",
       "      <td>327</td>\n",
       "      <td>33120</td>\n",
       "      <td>5</td>\n",
       "      <td>1</td>\n",
       "      <td>Organic Egg Whites</td>\n",
       "      <td>86</td>\n",
       "      <td>16</td>\n",
       "    </tr>\n",
       "    <tr>\n",
       "      <th>4</th>\n",
       "      <td>390</td>\n",
       "      <td>33120</td>\n",
       "      <td>28</td>\n",
       "      <td>1</td>\n",
       "      <td>Organic Egg Whites</td>\n",
       "      <td>86</td>\n",
       "      <td>16</td>\n",
       "    </tr>\n",
       "  </tbody>\n",
       "</table>\n",
       "</div>"
      ],
      "text/plain": [
       "   order_id  product_id  add_to_cart_order  reordered        product_name  \\\n",
       "0         2       33120                  1          1  Organic Egg Whites   \n",
       "1        26       33120                  5          0  Organic Egg Whites   \n",
       "2       120       33120                 13          0  Organic Egg Whites   \n",
       "3       327       33120                  5          1  Organic Egg Whites   \n",
       "4       390       33120                 28          1  Organic Egg Whites   \n",
       "\n",
       "   aisle_id  department_id  \n",
       "0        86             16  \n",
       "1        86             16  \n",
       "2        86             16  \n",
       "3        86             16  \n",
       "4        86             16  "
      ]
     },
     "execution_count": 4,
     "metadata": {},
     "output_type": "execute_result"
    }
   ],
   "source": [
    "df = pd.merge(order_products, products, on='product_id')\n",
    "\n",
    "#cleanup\n",
    "del order_products\n",
    "del products\n",
    "del departments\n",
    "gc.collect()\n",
    "\n",
    "df.head()"
   ]
  },
  {
   "cell_type": "code",
   "execution_count": 5,
   "id": "38a6bbb5",
   "metadata": {},
   "outputs": [
    {
     "data": {
      "text/plain": [
       "[4, 16, 19, 7, 1, 13, 3, 15, 20, 9]"
      ]
     },
     "execution_count": 5,
     "metadata": {},
     "output_type": "execute_result"
    }
   ],
   "source": [
    "# top 10 product categories\n",
    "top10_cat = df.groupby('department_id')['department_id'].count().sort_values(ascending=False)[:10].index.tolist()\n",
    "top10_cat"
   ]
  },
  {
   "cell_type": "code",
   "execution_count": 6,
   "id": "22c4a714",
   "metadata": {},
   "outputs": [
    {
     "name": "stdout",
     "output_type": "stream",
     "text": [
      "n rows before filtering: 33819106\n",
      "n rows after filtering: 29964627\n"
     ]
    }
   ],
   "source": [
    "# filtering top 10 categories\n",
    "print(f\"n rows before filtering: {len(df)}\")\n",
    "df = df[df['department_id'].isin(top10_cat)]\n",
    "print(f\"n rows after filtering: {len(df)}\")"
   ]
  },
  {
   "cell_type": "code",
   "execution_count": 7,
   "id": "79329292",
   "metadata": {},
   "outputs": [],
   "source": [
    "# taking relevant columns and add values\n",
    "df = df[['order_id', 'product_id']]\n",
    "df['values'] = 1"
   ]
  },
  {
   "cell_type": "code",
   "execution_count": 8,
   "id": "e002311c",
   "metadata": {},
   "outputs": [
    {
     "data": {
      "text/plain": [
       "array([ True,  True,  True, ...,  True,  True,  True])"
      ]
     },
     "execution_count": 8,
     "metadata": {},
     "output_type": "execute_result"
    }
   ],
   "source": [
    "# product ids from np.unique is already sorted\n",
    "product_ids = np.unique(df['product_id'])\n",
    "np.sort(product_ids) == product_ids"
   ]
  },
  {
   "cell_type": "code",
   "execution_count": 9,
   "id": "6702ba84",
   "metadata": {},
   "outputs": [
    {
     "name": "stdout",
     "output_type": "stream",
     "text": [
      "iteration 1/172...pivoting..."
     ]
    },
    {
     "name": "stderr",
     "output_type": "stream",
     "text": [
      "<ipython-input-9-4046dbd374b3>:24: PerformanceWarning: DataFrame is highly fragmented.  This is usually the result of calling `frame.insert` many times, which has poor performance.  Consider using pd.concat instead.  To get a de-fragmented frame, use `newframe = frame.copy()`\n",
      "  df_chunk[col] = 0\n"
     ]
    },
    {
     "name": "stdout",
     "output_type": "stream",
     "text": [
      "converting to sparse...\n",
      "iteration 2/172...pivoting...converting to sparse...\n",
      "iteration 3/172...pivoting...converting to sparse...\n",
      "iteration 4/172...pivoting...converting to sparse...\n",
      "iteration 5/172...pivoting...converting to sparse...\n",
      "iteration 6/172...pivoting...converting to sparse...\n",
      "iteration 7/172...pivoting...converting to sparse...\n",
      "iteration 8/172...pivoting...converting to sparse...\n",
      "iteration 9/172...pivoting...converting to sparse...\n",
      "iteration 10/172...pivoting...converting to sparse...\n",
      "iteration 11/172...pivoting...converting to sparse...\n",
      "iteration 12/172...pivoting...converting to sparse...\n",
      "iteration 13/172...pivoting...converting to sparse...\n",
      "iteration 14/172...pivoting...converting to sparse...\n",
      "iteration 15/172...pivoting...converting to sparse...\n",
      "iteration 16/172...pivoting...converting to sparse...\n",
      "iteration 17/172...pivoting...converting to sparse...\n",
      "iteration 18/172...pivoting...converting to sparse...\n",
      "iteration 19/172...pivoting...converting to sparse...\n",
      "iteration 20/172...pivoting...converting to sparse...\n",
      "iteration 21/172...pivoting...converting to sparse...\n",
      "iteration 22/172...pivoting...converting to sparse...\n",
      "iteration 23/172...pivoting...converting to sparse...\n",
      "iteration 24/172...pivoting...converting to sparse...\n",
      "iteration 25/172...pivoting...converting to sparse...\n",
      "iteration 26/172...pivoting...converting to sparse...\n",
      "iteration 27/172...pivoting...converting to sparse...\n",
      "iteration 28/172...pivoting...converting to sparse...\n",
      "iteration 29/172...pivoting...converting to sparse...\n",
      "iteration 30/172...pivoting...converting to sparse...\n",
      "iteration 31/172...pivoting...converting to sparse...\n",
      "iteration 32/172...pivoting...converting to sparse...\n",
      "iteration 33/172...pivoting...converting to sparse...\n",
      "iteration 34/172...pivoting...converting to sparse...\n",
      "iteration 35/172...pivoting...converting to sparse...\n",
      "iteration 36/172...pivoting...converting to sparse...\n",
      "iteration 37/172...pivoting...converting to sparse...\n",
      "iteration 38/172...pivoting...converting to sparse...\n",
      "iteration 39/172...pivoting...converting to sparse...\n",
      "iteration 40/172...pivoting...converting to sparse...\n",
      "iteration 41/172...pivoting...converting to sparse...\n",
      "iteration 42/172...pivoting...converting to sparse...\n",
      "iteration 43/172...pivoting...converting to sparse...\n",
      "iteration 44/172...pivoting...converting to sparse...\n",
      "iteration 45/172...pivoting...converting to sparse...\n",
      "iteration 46/172...pivoting...converting to sparse...\n",
      "iteration 47/172...pivoting...converting to sparse...\n",
      "iteration 48/172...pivoting...converting to sparse...\n",
      "iteration 49/172...pivoting...converting to sparse...\n",
      "iteration 50/172...pivoting...converting to sparse...\n",
      "iteration 51/172...pivoting...converting to sparse...\n",
      "iteration 52/172...pivoting...converting to sparse...\n",
      "iteration 53/172...pivoting...converting to sparse...\n",
      "iteration 54/172...pivoting...converting to sparse...\n",
      "iteration 55/172...pivoting...converting to sparse...\n",
      "iteration 56/172...pivoting...converting to sparse...\n",
      "iteration 57/172...pivoting...converting to sparse...\n",
      "iteration 58/172...pivoting...converting to sparse...\n",
      "iteration 59/172...pivoting...converting to sparse...\n",
      "iteration 60/172...pivoting...converting to sparse...\n",
      "iteration 61/172...pivoting...converting to sparse...\n",
      "iteration 62/172...pivoting...converting to sparse...\n",
      "iteration 63/172...pivoting...converting to sparse...\n",
      "iteration 64/172...pivoting...converting to sparse...\n",
      "iteration 65/172...pivoting...converting to sparse...\n",
      "iteration 66/172...pivoting...converting to sparse...\n",
      "iteration 67/172...pivoting...converting to sparse...\n",
      "iteration 68/172...pivoting...converting to sparse...\n",
      "iteration 69/172...pivoting...converting to sparse...\n",
      "iteration 70/172...pivoting...converting to sparse...\n",
      "iteration 71/172...pivoting...converting to sparse...\n",
      "iteration 72/172...pivoting...converting to sparse...\n",
      "iteration 73/172...pivoting...converting to sparse...\n",
      "iteration 74/172...pivoting...converting to sparse...\n",
      "iteration 75/172...pivoting...converting to sparse...\n",
      "iteration 76/172...pivoting...converting to sparse...\n",
      "iteration 77/172...pivoting...converting to sparse...\n",
      "iteration 78/172...pivoting...converting to sparse...\n",
      "iteration 79/172...pivoting...converting to sparse...\n",
      "iteration 80/172...pivoting...converting to sparse...\n",
      "iteration 81/172...pivoting...converting to sparse...\n",
      "iteration 82/172...pivoting...converting to sparse...\n",
      "iteration 83/172...pivoting...converting to sparse...\n",
      "iteration 84/172...pivoting...converting to sparse...\n",
      "iteration 85/172...pivoting...converting to sparse...\n",
      "iteration 86/172...pivoting...converting to sparse...\n",
      "iteration 87/172...pivoting...converting to sparse...\n",
      "iteration 88/172...pivoting...converting to sparse...\n",
      "iteration 89/172...pivoting...converting to sparse...\n",
      "iteration 90/172...pivoting...converting to sparse...\n",
      "iteration 91/172...pivoting...converting to sparse...\n",
      "iteration 92/172...pivoting...converting to sparse...\n",
      "iteration 93/172...pivoting...converting to sparse...\n",
      "iteration 94/172...pivoting...converting to sparse...\n",
      "iteration 95/172...pivoting...converting to sparse...\n",
      "iteration 96/172...pivoting...converting to sparse...\n",
      "iteration 97/172...pivoting...converting to sparse...\n",
      "iteration 98/172...pivoting...converting to sparse...\n",
      "iteration 99/172...pivoting...converting to sparse...\n",
      "iteration 100/172...pivoting...converting to sparse...\n",
      "iteration 101/172...pivoting...converting to sparse...\n",
      "iteration 102/172...pivoting...converting to sparse...\n",
      "iteration 103/172...pivoting...converting to sparse...\n",
      "iteration 104/172...pivoting...converting to sparse...\n",
      "iteration 105/172...pivoting...converting to sparse...\n",
      "iteration 106/172...pivoting...converting to sparse...\n",
      "iteration 107/172...pivoting...converting to sparse...\n",
      "iteration 108/172...pivoting...converting to sparse...\n",
      "iteration 109/172...pivoting...converting to sparse...\n",
      "iteration 110/172...pivoting...converting to sparse...\n",
      "iteration 111/172...pivoting...converting to sparse...\n",
      "iteration 112/172...pivoting...converting to sparse...\n",
      "iteration 113/172...pivoting...converting to sparse...\n",
      "iteration 114/172...pivoting...converting to sparse...\n",
      "iteration 115/172...pivoting...converting to sparse...\n",
      "iteration 116/172...pivoting...converting to sparse...\n",
      "iteration 117/172...pivoting...converting to sparse...\n",
      "iteration 118/172...pivoting...converting to sparse...\n",
      "iteration 119/172...pivoting...converting to sparse...\n",
      "iteration 120/172...pivoting...converting to sparse...\n",
      "iteration 121/172...pivoting...converting to sparse...\n",
      "iteration 122/172...pivoting...converting to sparse...\n",
      "iteration 123/172...pivoting...converting to sparse...\n",
      "iteration 124/172...pivoting...converting to sparse...\n",
      "iteration 125/172...pivoting...converting to sparse...\n",
      "iteration 126/172...pivoting...converting to sparse...\n",
      "iteration 127/172...pivoting...converting to sparse...\n",
      "iteration 128/172...pivoting...converting to sparse...\n",
      "iteration 129/172...pivoting...converting to sparse...\n",
      "iteration 130/172...pivoting...converting to sparse...\n",
      "iteration 131/172...pivoting...converting to sparse...\n",
      "iteration 132/172...pivoting...converting to sparse...\n",
      "iteration 133/172...pivoting...converting to sparse...\n",
      "iteration 134/172...pivoting...converting to sparse...\n",
      "iteration 135/172...pivoting...converting to sparse...\n",
      "iteration 136/172...pivoting...converting to sparse...\n",
      "iteration 137/172...pivoting...converting to sparse...\n",
      "iteration 138/172...pivoting...converting to sparse...\n",
      "iteration 139/172...pivoting...converting to sparse...\n",
      "iteration 140/172...pivoting...converting to sparse...\n",
      "iteration 141/172...pivoting...converting to sparse...\n",
      "iteration 142/172...pivoting...converting to sparse...\n",
      "iteration 143/172...pivoting...converting to sparse...\n",
      "iteration 144/172...pivoting...converting to sparse...\n",
      "iteration 145/172...pivoting...converting to sparse...\n",
      "iteration 146/172...pivoting...converting to sparse...\n",
      "iteration 147/172...pivoting...converting to sparse...\n",
      "iteration 148/172...pivoting...converting to sparse...\n",
      "iteration 149/172...pivoting...converting to sparse...\n",
      "iteration 150/172...pivoting...converting to sparse...\n",
      "iteration 151/172...pivoting...converting to sparse...\n"
     ]
    },
    {
     "name": "stdout",
     "output_type": "stream",
     "text": [
      "iteration 152/172...pivoting...converting to sparse...\n",
      "iteration 153/172...pivoting...converting to sparse...\n",
      "iteration 154/172...pivoting...converting to sparse...\n",
      "iteration 155/172...pivoting...converting to sparse...\n",
      "iteration 156/172...pivoting...converting to sparse...\n",
      "iteration 157/172...pivoting...converting to sparse...\n",
      "iteration 158/172...pivoting...converting to sparse...\n",
      "iteration 159/172...pivoting...converting to sparse...\n",
      "iteration 160/172...pivoting...converting to sparse...\n",
      "iteration 161/172...pivoting...converting to sparse...\n",
      "iteration 162/172...pivoting...converting to sparse...\n",
      "iteration 163/172...pivoting...converting to sparse...\n",
      "iteration 164/172...pivoting...converting to sparse...\n",
      "iteration 165/172...pivoting...converting to sparse...\n",
      "iteration 166/172...pivoting...converting to sparse...\n",
      "iteration 167/172...pivoting...converting to sparse...\n",
      "iteration 168/172...pivoting...converting to sparse...\n",
      "iteration 169/172...pivoting...converting to sparse...\n",
      "iteration 170/172...pivoting...converting to sparse...\n",
      "iteration 171/172...pivoting...converting to sparse...\n",
      "iteration 172/172...pivoting...converting to sparse...\n"
     ]
    }
   ],
   "source": [
    "if test: df = df.iloc[:1000]\n",
    "\n",
    "if 'csr' in globals():\n",
    "    del csr\n",
    "\n",
    "chunk_size = 20000    # number of distinct order_id processed per chunk\n",
    "n_iter = (df['order_id'].max() // chunk_size) + 1\n",
    "col_names = np.unique(df['product_id'])\n",
    "index = np.array([])\n",
    "\n",
    "for i in range(n_iter):\n",
    "    \n",
    "    print(f\"iteration {i+1}/{n_iter}...\", end='')\n",
    "    \n",
    "    df_chunk = df[(df['order_id'] > i*chunk_size) & (df['order_id'] <= (i+1)*chunk_size)]\n",
    "    \n",
    "    # pivot\n",
    "    print('pivoting...', end='')\n",
    "    df_chunk = df_chunk.pivot_table(values='values', index='order_id', columns='product_id').fillna(0)\n",
    "    \n",
    "    # add columns(product_id) of zeros if product_id not present\n",
    "    for col in col_names:\n",
    "        if col not in df_chunk.columns:\n",
    "            df_chunk[col] = 0\n",
    "    \n",
    "    # sort columns\n",
    "    df_chunk = df_chunk[col_names.tolist()]\n",
    "    \n",
    "    # append index\n",
    "    index = np.append(index, df_chunk.index.to_numpy())\n",
    "    \n",
    "    # instantiate csr or stack chunk on top of existing csr\n",
    "    print('converting to sparse...')\n",
    "    try: csr\n",
    "    except: csr = csr_matrix(df_chunk.values, dtype=np.int8)\n",
    "    else: csr = vstack((csr, csr_matrix(df_chunk.values, dtype=np.int8)))"
   ]
  },
  {
   "cell_type": "code",
   "execution_count": 10,
   "id": "b31fec57",
   "metadata": {},
   "outputs": [],
   "source": [
    "# save csr matrix\n",
    "save_npz('../data/top10_categories.npz', csr)"
   ]
  },
  {
   "cell_type": "code",
   "execution_count": 11,
   "id": "5d223a50",
   "metadata": {},
   "outputs": [
    {
     "name": "stdout",
     "output_type": "stream",
     "text": [
      "# rows is consistent: True\n",
      "# columns is consistent: True\n"
     ]
    }
   ],
   "source": [
    "# check if number of orders is equivalen to sparse's rows and number of unique product_ids is equivalent to sparse's columns\n",
    "print(f\"# rows is consistent: {len(np.unique(df['order_id'])) == csr.shape[0]}\")\n",
    "print(f\"# columns is consistent: {len(np.unique(df['product_id'])) == csr.shape[1]}\")"
   ]
  },
  {
   "cell_type": "code",
   "execution_count": 12,
   "id": "85373455",
   "metadata": {},
   "outputs": [],
   "source": [
    "# save sparse dataframe to parquet\n",
    "df_sparse = pd.DataFrame.sparse.from_spmatrix(csr, \n",
    "                                              index=index.astype(str).tolist(), \n",
    "                                              columns=col_names.astype(str).tolist())\n",
    "df_sparse.to_pickle('../data/top10_categories.pickle')"
   ]
  }
 ],
 "metadata": {
  "kernelspec": {
   "display_name": "Python (final)",
   "language": "python",
   "name": "final"
  },
  "language_info": {
   "codemirror_mode": {
    "name": "ipython",
    "version": 3
   },
   "file_extension": ".py",
   "mimetype": "text/x-python",
   "name": "python",
   "nbconvert_exporter": "python",
   "pygments_lexer": "ipython3",
   "version": "3.9.5"
  }
 },
 "nbformat": 4,
 "nbformat_minor": 5
}
